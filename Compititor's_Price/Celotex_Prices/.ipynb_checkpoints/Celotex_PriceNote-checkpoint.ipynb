{
 "cells": [
  {
   "cell_type": "code",
   "execution_count": 32,
   "id": "e7d6a64f-97c3-41e9-91dc-37ccebeece0b",
   "metadata": {},
   "outputs": [
    {
     "data": {
      "text/plain": [
       "\"C:\\\\Users\\\\Priyanka\\\\Documents\\\\Search_for_product_on_Competitor's\\\\Compititor's_Price\\\\Celotex_Prices\\\\Celotex_Prices_02-14-2025.xlsx\""
      ]
     },
     "execution_count": 32,
     "metadata": {},
     "output_type": "execute_result"
    }
   ],
   "source": [
    "# Re-import necessary libraries\n",
    "import pandas as pd\n",
    "from openpyxl import load_workbook\n",
    "from openpyxl.comments import Comment\n",
    "from datetime import datetime, timedelta\n",
    "\n",
    "current_date = datetime.now().strftime(\"%m-%d-%Y\")\n",
    "yesterday_date = datetime.today() - timedelta(days=1)\n",
    "yesterday_date = yesterday_date.strftime(\"%m-%d-%Y\")\n",
    "yesterday_file = f\"C:\\\\Users\\\\Priyanka\\\\Documents\\\\Search_for_product_on_Competitor's\\\\Compititor's_Price\\\\Celotex_Prices\\\\Celotex_Prices_{yesterday_date}.xlsx\"\n",
    "today_file = f\"C:\\\\Users\\\\Priyanka\\\\Documents\\\\Search_for_product_on_Competitor's\\\\Compititor's_Price\\\\Celotex_Prices\\\\Celotex_Prices_{current_date}.xlsx\"\n",
    "output_file = f\"C:\\\\Users\\\\Priyanka\\\\Documents\\\\Search_for_product_on_Competitor's\\\\Compititor's_Price\\\\Celotex_Prices\\\\Celotex_Prices_{current_date}.xlsx\"\n",
    "\n",
    "# Load yesterday's and today's data\n",
    "df_yesterday = pd.read_excel(yesterday_file)\n",
    "df_today = pd.read_excel(today_file)\n",
    "\n",
    "# Standardize column names (strip spaces and match lowercase)\n",
    "df_yesterday.columns = df_yesterday.columns.str.strip()\n",
    "df_today.columns = df_today.columns.str.strip()\n",
    "\n",
    "# Load today's Excel file to modify it\n",
    "workbook = load_workbook(today_file)\n",
    "sheet = workbook.active\n",
    "\n",
    "# Identify retailer columns (excluding first few columns like SKU and Product)\n",
    "retailer_columns = df_today.columns[3:]  # Assuming first three columns are not retailers\n",
    "\n",
    "# Merge the data on 'Product'\n",
    "df_merged = df_today.merge(df_yesterday, on=\"Product\", suffixes=(\"_today\", \"_yesterday\"))\n",
    "\n",
    "# Iterate through each retailer and compare prices\n",
    "for retailer in retailer_columns:\n",
    "    col_today = retailer + \"_today\"\n",
    "    col_yesterday = retailer + \"_yesterday\"\n",
    "\n",
    "    if col_today in df_merged and col_yesterday in df_merged:\n",
    "        for row in range(2, sheet.max_row + 1):  # Assuming first row is headers\n",
    "            product = sheet.cell(row=row, column=3).value  # \"Product\" in column 3\n",
    "            today_price = sheet.cell(row=row, column=list(df_today.columns).index(retailer) + 1).value\n",
    "\n",
    "            # Get yesterday's price\n",
    "            yesterday_price = df_merged.loc[df_merged[\"Product\"] == product, col_yesterday].values\n",
    "\n",
    "            if len(yesterday_price) > 0 and today_price != yesterday_price[0]:\n",
    "                comment = Comment(f\"{yesterday_price[0]}\", \"Price Tracker\")\n",
    "                sheet.cell(row=row, column=list(df_today.columns).index(retailer) + 1).comment = comment\n",
    "\n",
    "# Save the updated file\n",
    "workbook.save(output_file)\n",
    "output_file\n"
   ]
  },
  {
   "cell_type": "code",
   "execution_count": 30,
   "id": "7fb26703-1339-423e-883f-59723405415e",
   "metadata": {},
   "outputs": [
    {
     "data": {
      "text/plain": [
       "'02-13-2025'"
      ]
     },
     "execution_count": 30,
     "metadata": {},
     "output_type": "execute_result"
    }
   ],
   "source": [
    "from datetime import datetime, timedelta\n",
    "\n",
    "yesterday_date = datetime.today() - timedelta(days=1)\n",
    "yesterday_date.strftime(\"%m-%d-%Y\")"
   ]
  }
 ],
 "metadata": {
  "kernelspec": {
   "display_name": "Python [conda env:base] *",
   "language": "python",
   "name": "conda-base-py"
  },
  "language_info": {
   "codemirror_mode": {
    "name": "ipython",
    "version": 3
   },
   "file_extension": ".py",
   "mimetype": "text/x-python",
   "name": "python",
   "nbconvert_exporter": "python",
   "pygments_lexer": "ipython3",
   "version": "3.11.7"
  },
  "widgets": {
   "application/vnd.jupyter.widget-state+json": {
    "state": {},
    "version_major": 2,
    "version_minor": 0
   }
  }
 },
 "nbformat": 4,
 "nbformat_minor": 5
}
