{
 "cells": [
  {
   "cell_type": "code",
   "execution_count": 16,
   "id": "e7d6a64f-97c3-41e9-91dc-37ccebeece0b",
   "metadata": {},
   "outputs": [
    {
     "ename": "SyntaxError",
     "evalue": "(unicode error) 'unicodeescape' codec can't decode bytes in position 2-3: truncated \\UXXXXXXXX escape (311419396.py, line 6)",
     "output_type": "error",
     "traceback": [
      "\u001b[1;36m  Cell \u001b[1;32mIn[16], line 6\u001b[1;36m\u001b[0m\n\u001b[1;33m    yesterday_file = \"C:\\Users\\Priyanka\\Documents\\Search_for_product_on_Competitor's\\Compititor's_Price\\Celotex_Prices\\Celotex_Prices_02-13-2025.xlsx\"\u001b[0m\n\u001b[1;37m                                                                                                                                                      ^\u001b[0m\n\u001b[1;31mSyntaxError\u001b[0m\u001b[1;31m:\u001b[0m (unicode error) 'unicodeescape' codec can't decode bytes in position 2-3: truncated \\UXXXXXXXX escape\n"
     ]
    }
   ],
   "source": [
    "# Re-import necessary libraries\n",
    "import pandas as pd\n",
    "from openpyxl import load_workbook\n",
    "from openpyxl.comments import Comment\n",
    "\n",
    "yesterday_file = \"C:\\\\Users\\\\Priyanka\\\\Documents\\\\Search_for_product_on_Competitor's\\\\Compititor's_Price\\\\Celotex_Prices\\\\Celotex_Prices_02-13-2025.xlsx\"\n",
    "today_file = \"C:\\\\Users\\\\Priyanka\\\\Documents\\\\Search_for_product_on_Competitor's\\\\Compititor's_Price\\\\Celotex_Prices\\\\Celotex_Prices_02-14-2025.xlsx\"\n",
    "output_file = \"compared_prices.xlsx\"\n",
    "\n",
    "# Load yesterday's and today's data\n",
    "df_yesterday = pd.read_excel(yesterday_file)\n",
    "df_today = pd.read_excel(today_file)\n",
    "\n",
    "# Standardize column names (strip spaces and match lowercase)\n",
    "df_yesterday.columns = df_yesterday.columns.str.strip()\n",
    "df_today.columns = df_today.columns.str.strip()\n",
    "\n",
    "# Load today's Excel file to modify it\n",
    "workbook = load_workbook(today_file)\n",
    "sheet = workbook.active\n",
    "\n",
    "# Identify retailer columns (excluding first few columns like SKU and Product)\n",
    "retailer_columns = df_today.columns[3:]  # Assuming first three columns are not retailers\n",
    "\n",
    "# Merge the data on 'Product'\n",
    "df_merged = df_today.merge(df_yesterday, on=\"Product\", suffixes=(\"_today\", \"_yesterday\"))\n",
    "\n",
    "# Iterate through each retailer and compare prices\n",
    "for retailer in retailer_columns:\n",
    "    col_today = retailer + \"_today\"\n",
    "    col_yesterday = retailer + \"_yesterday\"\n",
    "\n",
    "    if col_today in df_merged and col_yesterday in df_merged:\n",
    "        for row in range(2, sheet.max_row + 1):  # Assuming first row is headers\n",
    "            product = sheet.cell(row=row, column=3).value  # \"Product\" in column 3\n",
    "            today_price = sheet.cell(row=row, column=list(df_today.columns).index(retailer) + 1).value\n",
    "\n",
    "            # Get yesterday's price\n",
    "            yesterday_price = df_merged.loc[df_merged[\"Product\"] == product, col_yesterday].values\n",
    "\n",
    "            if len(yesterday_price) > 0 and today_price != yesterday_price[0]:\n",
    "                comment = Comment(f\"Yesterday's price: {yesterday_price[0]}\", \"Price Tracker\")\n",
    "                sheet.cell(row=row, column=list(df_today.columns).index(retailer) + 1).comment = comment\n",
    "\n",
    "# Save the updated file\n",
    "workbook.save(output_file)\n",
    "output_file\n"
   ]
  }
 ],
 "metadata": {
  "kernelspec": {
   "display_name": "Python [conda env:base] *",
   "language": "python",
   "name": "conda-base-py"
  },
  "language_info": {
   "codemirror_mode": {
    "name": "ipython",
    "version": 3
   },
   "file_extension": ".py",
   "mimetype": "text/x-python",
   "name": "python",
   "nbconvert_exporter": "python",
   "pygments_lexer": "ipython3",
   "version": "3.11.7"
  },
  "widgets": {
   "application/vnd.jupyter.widget-state+json": {
    "state": {},
    "version_major": 2,
    "version_minor": 0
   }
  }
 },
 "nbformat": 4,
 "nbformat_minor": 5
}
